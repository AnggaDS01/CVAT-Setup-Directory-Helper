{
 "cells": [
  {
   "cell_type": "code",
   "execution_count": 10,
   "metadata": {},
   "outputs": [],
   "source": [
    "import os\n",
    "import re"
   ]
  },
  {
   "cell_type": "code",
   "execution_count": 12,
   "metadata": {},
   "outputs": [],
   "source": [
    "PARENT_PATH = '../Data Zone/Potholes-Assets/potholes-YOLOv8'\n",
    "IMAGES_DIR_PATH = os.path.join(PARENT_PATH, 'annotations', 'images')\n",
    "LABELS_DIR_PATH = os.path.join(PARENT_PATH, 'annotations', 'labels')"
   ]
  },
  {
   "cell_type": "code",
   "execution_count": 14,
   "metadata": {},
   "outputs": [
    {
     "name": "stdout",
     "output_type": "stream",
     "text": [
      "Semua file sudah match!\n"
     ]
    }
   ],
   "source": [
    "def get_file_names(directory, extension):\n",
    "    \"\"\"\n",
    "    Fungsi untuk mendapatkan nama file dari directory tanpa extension tertentu.\n",
    "    \n",
    "    Args:\n",
    "        directory (str): Path ke folder yang akan dicek.\n",
    "        extension (str): Ekstensi file yang ingin dihapus (.jpg atau .txt).\n",
    "    \n",
    "    Returns:\n",
    "        List: Daftar nama file tanpa extension.\n",
    "    \"\"\"\n",
    "    files = os.listdir(directory)\n",
    "    pattern = re.compile(rf'(.+){extension}$')  # Regex untuk menghilangkan extension\n",
    "    file_names = [pattern.match(file).group(1) for file in files if pattern.match(file)]\n",
    "    return file_names\n",
    "\n",
    "def compare_directories(images_dir, labels_dir):\n",
    "    \"\"\"\n",
    "    Fungsi untuk membandingkan dua directory (images dan labels) apakah file names-nya sudah sama.\n",
    "    \n",
    "    Args:\n",
    "        images_dir (str): Path ke folder images.\n",
    "        labels_dir (str): Path ke folder labels.\n",
    "    \n",
    "    Returns:\n",
    "        None: Munculin nama file yang tidak ada pasangannya.\n",
    "    \"\"\"\n",
    "    # Ambil nama file tanpa extensi\n",
    "    image_files = get_file_names(images_dir, \".jpg\")\n",
    "    label_files = get_file_names(labels_dir, \".txt\")\n",
    "\n",
    "    # Cari file yang tidak ada di kedua list\n",
    "    images_diff = set(image_files) - set(label_files)\n",
    "    labels_diff = set(label_files) - set(image_files)\n",
    "\n",
    "    if not images_diff and not labels_diff:\n",
    "        print(\"Semua file sudah match!\")\n",
    "    else:\n",
    "        if images_diff:\n",
    "            print(\"File di images tanpa pasangan label:\")\n",
    "            for file in images_diff:\n",
    "                print(f\"- {file}.jpg\")\n",
    "        if labels_diff:\n",
    "            print(\"File di labels tanpa pasangan gambar:\")\n",
    "            for file in labels_diff:\n",
    "                print(f\"- {file}.txt\")\n",
    "\n",
    "compare_directories(IMAGES_DIR_PATH, LABELS_DIR_PATH)"
   ]
  }
 ],
 "metadata": {
  "kernelspec": {
   "display_name": "Python 3",
   "language": "python",
   "name": "python3"
  },
  "language_info": {
   "codemirror_mode": {
    "name": "ipython",
    "version": 3
   },
   "file_extension": ".py",
   "mimetype": "text/x-python",
   "name": "python",
   "nbconvert_exporter": "python",
   "pygments_lexer": "ipython3",
   "version": "3.9.2"
  }
 },
 "nbformat": 4,
 "nbformat_minor": 2
}
